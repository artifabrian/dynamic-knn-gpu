{
 "cells": [
  {
   "cell_type": "code",
   "execution_count": 1,
   "metadata": {},
   "outputs": [
    {
     "data": {
      "text/html": [
       "<script>requirejs.config({paths: { 'plotly': ['https://cdn.plot.ly/plotly-latest.min']},});if(!window.Plotly) {{require(['plotly'],function(plotly) {window.Plotly=plotly;});}}</script>"
      ],
      "text/vnd.plotly.v1+html": [
       "<script>requirejs.config({paths: { 'plotly': ['https://cdn.plot.ly/plotly-latest.min']},});if(!window.Plotly) {{require(['plotly'],function(plotly) {window.Plotly=plotly;});}}</script>"
      ]
     },
     "metadata": {},
     "output_type": "display_data"
    }
   ],
   "source": [
    "import numpy as np\n",
    "import pandas as pd\n",
    "from lightgbm import LGBMClassifier\n",
    "from scipy.stats import skew\n",
    "from scipy.stats.stats import pearsonr\n",
    "import matplotlib\n",
    "import matplotlib.pyplot as plt\n",
    "import seaborn as sns\n",
    "import plotly.offline as plotly\n",
    "import plotly.graph_objs as go\n",
    "plotly.offline.init_notebook_mode(connected=True)\n",
    "\n",
    "matplotlib.rc('font', size=20)\n",
    "matplotlib.rc('axes', titlesize=20)\n",
    "matplotlib.rc('axes', labelsize=20)\n",
    "matplotlib.rc('xtick', labelsize=20)\n",
    "matplotlib.rc('ytick', labelsize=20)\n",
    "matplotlib.rc('legend', fontsize=20)\n",
    "matplotlib.rc('figure', titlesize=20)\n",
    "\n",
    "import tensorflow as tf"
   ]
  },
  {
   "cell_type": "code",
   "execution_count": 2,
   "metadata": {},
   "outputs": [
    {
     "data": {
      "image/png": "[encoded data removed]",
      "text/plain": [
       "<Figure size 432x288 with 1 Axes>"
      ]
     },
     "metadata": {
      "needs_background": "light"
     },
     "output_type": "display_data"
    },
    {
     "name": "stdout",
     "output_type": "stream",
     "text": [
      "[[167.34327172 150.1958504  163.14524416]\n",
      " [-17.76546842 -25.11194467 -35.50454638]\n",
      " [187.1892412  213.17644648 145.60741357]\n",
      " [-33.40997326  17.07627547  -6.27746717]\n",
      " [183.65592147 194.34575485 144.4467741 ]]\n",
      "[[0]\n",
      " [1]\n",
      " [0]\n",
      " [1]\n",
      " [0]]\n"
     ]
    }
   ],
   "source": [
    "def plot_data(X, y):\n",
    "    y = y.flatten()\n",
    "    \n",
    "    x_point_class_0 = X[y == 0].T[0].T\n",
    "    y_point_class_0 = X[y == 0].T[1].T\n",
    "    \n",
    "    x_point_class_1 = X[y == 1].T[0].T\n",
    "    y_point_class_1 = X[y == 1].T[1].T\n",
    "    \n",
    "    plt.plot(x_point_class_0, y_point_class_0, 'ro', label='class 0')\n",
    "    plt.plot(x_point_class_1, y_point_class_1, 'go', label='class 1')\n",
    "    plt.legend()\n",
    "    plt.show()\n",
    "\n",
    "def generate_pseudo_random_data(number_of_training_points=350, n_features=2):\n",
    "    # Build the Training Set\n",
    "    #TODO: dynamic number of features\n",
    "    number_of_training_points_per_class = int(number_of_training_points/2)\n",
    "\n",
    "    class_0_a = 150\n",
    "    class_0_b = 32\n",
    "\n",
    "    class_1_a = -15\n",
    "    class_1_b = 27\n",
    "    \n",
    "    X = []\n",
    "    y = []\n",
    "\n",
    "    for i in range(number_of_training_points_per_class):\n",
    "        instance_class_zero = []\n",
    "        for j in range(n_features):\n",
    "            val = np.random.normal(class_0_a, class_0_b)\n",
    "            instance_class_zero.append(val)\n",
    "            \n",
    "        instance_class_one = []\n",
    "        for j in range(n_features):\n",
    "            val = np.random.normal(class_1_a, class_1_b)\n",
    "            instance_class_one.append(val)\n",
    "        \n",
    "        X.append(instance_class_zero)\n",
    "        y.append([0])\n",
    "        \n",
    "        X.append(instance_class_one)\n",
    "        y.append([1])\n",
    "\n",
    "\n",
    "    \n",
    "    return np.array(X), np.array(y)\n",
    "\n",
    "X, y = generate_pseudo_random_data(number_of_training_points=500, n_features=3)\n",
    "\n",
    "plot_data(X, y)\n",
    "\n",
    "print(X[:5])\n",
    "print(y[:5])"
   ]
  },
  {
   "cell_type": "code",
   "execution_count": 3,
   "metadata": {},
   "outputs": [],
   "source": [
    "def build_knn_graph(number_of_training_points, number_of_features, k=3, gpu_enable=False):\n",
    "    X_train = tf.placeholder(tf.float32, shape=[number_of_training_points, number_of_features],\n",
    "                             name=\"X_train_placeholder\")\n",
    "\n",
    "    y_true = tf.placeholder(tf.float32, shape=[number_of_training_points, 1],\n",
    "                            name=\"y_true_placeholder\")\n",
    "\n",
    "    # TODO: multiple test cases at the same time, vectorization\n",
    "    X_test = tf.placeholder(tf.float32, shape=[number_of_features], name=\"X_test_placeholder\")\n",
    "    \n",
    "    device = '/cpu:0'\n",
    "    if gpu_enable:\n",
    "        device = '/gpu:0'\n",
    "        \n",
    "    with tf.device(device):\n",
    "        distances = tf.reduce_sum(tf.abs(tf.subtract(X_train, X_test)), axis=1)\n",
    "\n",
    "        # we need this trick because tensorflow has top_k api and no closest_k or reverse=True api\n",
    "        neg_distances = tf.multiply(distances, tf.constant(-1.0, dtype=tf.float32))\n",
    "\n",
    "        # it returns the values and indexes from the least distant nodes\n",
    "        values, indexes = tf.nn.top_k(neg_distances, k)\n",
    "\n",
    "        if not gpu_enable:\n",
    "            indexes = tf.Print(indexes, [values, indexes])\n",
    "\n",
    "        # gathers the values using the index in the y_true tensor, it's like a multiple get\n",
    "        y_pred = tf.gather(y_true, indexes)\n",
    "        y_pred = tf.cast(y_pred, tf.int32)\n",
    "\n",
    "        # aggregates sums of the values e.g. creates a tensor with the count on each index\n",
    "        counts = tf.bincount(y_pred)\n",
    "\n",
    "        if not gpu_enable:\n",
    "            counts = tf.Print(counts, [counts, y_pred], message=\"Counts\")\n",
    "\n",
    "        # gets the index (aka corresponding class) with the max count\n",
    "        with tf.device('/cpu:0'):\n",
    "            class_pred = tf.argmax(counts)\n",
    "\n",
    "    return class_pred, counts, X_train, y_true, X_test\n"
   ]
  },
  {
   "cell_type": "code",
   "execution_count": 4,
   "metadata": {},
   "outputs": [
    {
     "name": "stdout",
     "output_type": "stream",
     "text": [
      "Found GPU at: /device:GPU:0\n"
     ]
    }
   ],
   "source": [
    "device_name = tf.test.gpu_device_name()\n",
    "if device_name != '/device:GPU:0':\n",
    "    raise SystemError('GPU device not found')\n",
    "print('Found GPU at: {}'.format(device_name))"
   ]
  },
  {
   "cell_type": "code",
   "execution_count": 5,
   "metadata": {},
   "outputs": [],
   "source": [
    "number_of_training_points = 10000\n",
    "n_features = 1000\n",
    "test_point = [70.0]*n_features\n",
    "\n",
    "X, y = generate_pseudo_random_data(number_of_training_points=number_of_training_points, n_features=n_features)"
   ]
  },
  {
   "cell_type": "code",
   "execution_count": 6,
   "metadata": {},
   "outputs": [
    {
     "data": {
      "image/png": "[encoded data removed]",
      "text/plain": [
       "<Figure size 432x288 with 1 Axes>"
      ]
     },
     "metadata": {
      "needs_background": "light"
     },
     "output_type": "display_data"
    }
   ],
   "source": [
    "def plot_data_with_test_point(X, y, test_point):\n",
    "    \n",
    "    y = y.flatten()\n",
    "    \n",
    "    x_point_class_0 = X[y == 0].T[0].T\n",
    "    y_point_class_0 = X[y == 0].T[1].T\n",
    "    \n",
    "    x_point_class_1 = X[y == 1].T[0].T\n",
    "    y_point_class_1 = X[y == 1].T[1].T\n",
    "\n",
    "    plt.plot(x_point_class_0, y_point_class_0, 'ro', label='class 0')\n",
    "    plt.plot(x_point_class_1, y_point_class_1, 'go', label='class 1')\n",
    "    plt.plot(test_point[0], test_point[1], 'bo', label='test point')\n",
    "    plt.legend()\n",
    "    plt.show()\n",
    "\n",
    "plot_data_with_test_point(X, y, test_point)"
   ]
  },
  {
   "cell_type": "code",
   "execution_count": 7,
   "metadata": {},
   "outputs": [
    {
     "name": "stderr",
     "output_type": "stream",
     "text": [
      "D:\\Anaconda3\\envs\\tf-gpu\\lib\\site-packages\\ipykernel_launcher.py:26: DataConversionWarning:\n",
      "\n",
      "A column-vector y was passed when a 1d array was expected. Please change the shape of y to (n_samples, ), for example using ravel().\n",
      "\n"
     ]
    },
    {
     "name": "stdout",
     "output_type": "stream",
     "text": [
      "[0]\n",
      "0\n",
      "Time (s) to knn!.\n",
      "TF (s):\n",
      "0\n",
      "0\n",
      "0\n",
      "0\n",
      "0\n",
      "0\n",
      "0\n",
      "0\n",
      "0\n",
      "0\n",
      "0.37422971959978957\n",
      "SCIKIT (s):\n",
      "[0]\n",
      "[0]\n",
      "[0]\n",
      "[0]\n",
      "[0]\n",
      "[0]\n",
      "[0]\n",
      "[0]\n",
      "[0]\n",
      "[0]\n",
      "7.4203730482961365\n",
      "TF speedup over SCIKIT: 19x\n"
     ]
    }
   ],
   "source": [
    "import timeit\n",
    "from sklearn.neighbors import KNeighborsClassifier\n",
    "\n",
    "n_neighbors = 1000\n",
    "test_runs = 1\n",
    "\n",
    "#TF\n",
    "class_pred, counts, X_train, y_true, X_test = build_knn_graph(X.shape[0], X.shape[1], k=n_neighbors, gpu_enable=True)\n",
    "\n",
    "config = tf.ConfigProto()\n",
    "config.gpu_options.allow_growth = True\n",
    "session = tf.Session(config=config)\n",
    "session.run(tf.global_variables_initializer())\n",
    "\n",
    "def run_tf(class_pred, counts, X_train, y_true, X_test):\n",
    "    for i in range(0, test_runs):\n",
    "        test_point_pred = session.run(class_pred, feed_dict={X_train: X, y_true: y, X_test: test_point})\n",
    "\n",
    "    print(test_point_pred)\n",
    "\n",
    "def test_tf():\n",
    "    run_tf(class_pred, counts, X_train, y_true, X_test)\n",
    "############\n",
    "\n",
    "neigh = KNeighborsClassifier(n_neighbors=n_neighbors)\n",
    "neigh.fit(X, y)\n",
    "\n",
    "def run_scikit_iterative():\n",
    "    # iterative\n",
    "    for i in range(0, test_runs):\n",
    "        neigh = KNeighborsClassifier(n_neighbors=n_neighbors)\n",
    "        neigh.fit(X, y.ravel())\n",
    "        result = neigh.predict([test_point])\n",
    "\n",
    "    print(result)\n",
    "\n",
    "def test_scikit():\n",
    "    run_scikit_iterative()\n",
    "        \n",
    "test_scikit()\n",
    "test_tf()\n",
    "\n",
    "if True:\n",
    "    # Runs the op several times.\n",
    "    print('Time (s) to knn!.')\n",
    "    print('TF (s):')\n",
    "    tf_time = timeit.timeit('test_tf()', number=10, setup=\"from __main__ import test_tf\")\n",
    "    print(tf_time)\n",
    "    print('SCIKIT (s):')\n",
    "    scikit_time = timeit.timeit('test_scikit()', number=10, setup=\"from __main__ import test_scikit\")\n",
    "    print(scikit_time)\n",
    "    print('TF speedup over SCIKIT: {}x'.format(int(scikit_time/tf_time)))\n",
    "    \n",
    "session.close()"
   ]
  }
 ],
 "metadata": {
  "kernelspec": {
   "display_name": "TensorFlow-GPU",
   "language": "python",
   "name": "tf-gpu"
  },
  "language_info": {
   "codemirror_mode": {
    "name": "ipython",
    "version": 3
   },
   "file_extension": ".py",
   "mimetype": "text/x-python",
   "name": "python",
   "nbconvert_exporter": "python",
   "pygments_lexer": "ipython3",
   "version": "3.6.6"
  }
 },
 "nbformat": 4,
 "nbformat_minor": 2
}
