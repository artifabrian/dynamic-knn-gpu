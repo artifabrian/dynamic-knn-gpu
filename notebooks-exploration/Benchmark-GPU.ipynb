{
 "cells": [
  {
   "cell_type": "markdown",
   "metadata": {},
   "source": [
    "Notebook slightly adapted from [colab@google](https://colab.research.google.com/notebooks/gpu.ipynb)\n",
    "\n",
    "The goal of this notebook is to test the GPU and perform a very simple (and fast) benchmark."
   ]
  },
  {
   "cell_type": "code",
   "execution_count": 5,
   "metadata": {},
   "outputs": [
    {
     "name": "stdout",
     "output_type": "stream",
     "text": [
      "Found GPU at: /device:GPU:0\n"
     ]
    }
   ],
   "source": [
    "import tensorflow as tf\n",
    "device_name = tf.test.gpu_device_name()\n",
    "if device_name != '/device:GPU:0':\n",
    "    raise SystemError('GPU device not found')\n",
    "print('Found GPU at: {}'.format(device_name))"
   ]
  },
  {
   "cell_type": "markdown",
   "metadata": {},
   "source": [
    "**Expected Output:**\n",
    "   \n",
    "   <html>\n",
    "<table style=\"width:30%\">\n",
    "   <tr>\n",
    "    <th>Message</th>\n",
    "  </tr>\n",
    "  <tr>\n",
    "    <th>Found GPU at: /device:GPU:0</th>\n",
    "  </tr>\n",
    "</table> \n",
    "</html>\n",
    "\n"
   ]
  },
  {
   "cell_type": "code",
   "execution_count": 4,
   "metadata": {},
   "outputs": [
    {
     "name": "stdout",
     "output_type": "stream",
     "text": [
      "Time (s) to convolve 32x7x7x3 filter over random 100x1000x1000x3 images (batch x height x width x channel). Sum of 20 runs.\n",
      "CPU (s):\n",
      "4.767332523235353\n",
      "GPU (s):\n",
      "0.2375035052317287\n",
      "GPU speedup over CPU: 20x\n"
     ]
    }
   ],
   "source": [
    "import tensorflow as tf\n",
    "import timeit\n",
    "\n",
    "# See https://www.tensorflow.org/tutorials/using_gpu#allowing_gpu_memory_growth\n",
    "config = tf.ConfigProto()\n",
    "config.gpu_options.allow_growth = True\n",
    "\n",
    "with tf.device('/cpu:0'):\n",
    "    random_image_cpu = tf.random_normal((24, 128, 128, 3))\n",
    "    net_cpu = tf.layers.conv2d(random_image_cpu, 32, 7, padding='valid')\n",
    "    net_cpu = tf.layers.conv2d(net_cpu, 16, 3)\n",
    "    net_cpu = tf.reduce_sum(net_cpu)\n",
    "\n",
    "with tf.device('/gpu:0'):\n",
    "    random_image_gpu = tf.random_normal((24, 128, 128, 3))\n",
    "    net_gpu = tf.layers.conv2d(random_image_gpu, 32, 7, padding='valid')\n",
    "    net_gpu = tf.layers.conv2d(net_gpu, 16, 3)\n",
    "    net_gpu = tf.reduce_sum(net_gpu)\n",
    "\n",
    "sess = tf.Session(config=config)\n",
    "\n",
    "# Test execution once to detect errors early.\n",
    "try:\n",
    "    sess.run(tf.global_variables_initializer())\n",
    "except tf.errors.InvalidArgumentError:\n",
    "    print(\n",
    "      '\\n\\nThis error most likely means that this notebook is not '\n",
    "      'configured to use a GPU.  Change this in Notebook Settings via the '\n",
    "      'command palette (cmd/ctrl-shift-P) or the Edit menu.\\n\\n')\n",
    "    raise\n",
    "\n",
    "def cpu():\n",
    "    sess.run(net_cpu)\n",
    "\n",
    "def gpu():\n",
    "    sess.run(net_gpu)\n",
    "\n",
    "    \n",
    "# Runs the op several times.\n",
    "print('Time (s) to convolve filters over random images '\n",
    "      '(batch x height x width x channel). Sum of 20 runs.')\n",
    "print('CPU (s):')\n",
    "cpu_time = timeit.timeit('cpu()', number=20, setup=\"from __main__ import cpu\")\n",
    "print(cpu_time)\n",
    "print('GPU (s):')\n",
    "gpu_time = timeit.timeit('gpu()', number=20, setup=\"from __main__ import gpu\")\n",
    "print(gpu_time)\n",
    "print('GPU speedup over CPU: {}x'.format(int(cpu_time/gpu_time)))\n",
    "\n",
    "sess.close()"
   ]
  }
 ],
 "metadata": {
  "kernelspec": {
   "display_name": "TensorFlow-GPU",
   "language": "python",
   "name": "tf-gpu"
  },
  "language_info": {
   "codemirror_mode": {
    "name": "ipython",
    "version": 3
   },
   "file_extension": ".py",
   "mimetype": "text/x-python",
   "name": "python",
   "nbconvert_exporter": "python",
   "pygments_lexer": "ipython3",
   "version": "3.6.6"
  }
 },
 "nbformat": 4,
 "nbformat_minor": 2
}
