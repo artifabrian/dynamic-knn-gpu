{
 "cells": [
  {
   "cell_type": "markdown",
   "metadata": {},
   "source": [
    "# Dynamic k-NN using TensorFlow with GPU Support\n",
    "\n",
    "From: [artifabrian@github](https://github.com/artifabrian/dynamic-knn-gpu)\n",
    "\n",
    "This notebook presents a proof-of-concept implementation of a relatively simple Dynamic k-NN using TensorFlow with GPU support.\n",
    "\n",
    ">In k-NN classification, the output is a class membership. An object is classified by a majority vote of its neighbors, >with the object being assigned to the class most common among its k nearest neighbors (k is a positive integer, >typically small). If k = 1, then the object is simply assigned to the class of that single nearest neighbor.\n",
    "\n",
    "from [wikipedia](https://en.wikipedia.org/wiki/K-nearest_neighbors_algorithm)\n",
    "\n",
    "A dynamic k-NN allows for some parameters (such as the $k$ parameter) to be defined on a per instance basis, instead of being fixed in the model.\n",
    "\n",
    "This can be useful in cases where the $k$ is influenceed by some independent variable.\n",
    "\n",
    "Related research:\n",
    "- [An Improved k-NN Classification with Dynamic k](https://www.researchgate.net/publication/317595386_An_Improved_k-NN_Classification_with_Dynamic_k)\n",
    "\n",
    "- [Adaptive k-Nearest-Neighbor Classification Using a Dynamic Number of Nearest Neighbors](https://link.springer.com/chapter/10.1007/978-3-540-75185-4_7)\n",
    "\n",
    "- [Dynamic K-Nearest-Neighbor with Distance and attribute weighted for classification](https://ieeexplore.ieee.org/document/5559858?reload=true)\n",
    "\n",
    "This notebook is **not** meant to show production ready code and it's mostly just experimental!"
   ]
  },
  {
   "cell_type": "markdown",
   "metadata": {},
   "source": [
    "Imports:"
   ]
  },
  {
   "cell_type": "code",
   "execution_count": 1,
   "metadata": {},
   "outputs": [
    {
     "data": {
      "text/html": [
       "<script>requirejs.config({paths: { 'plotly': ['https://cdn.plot.ly/plotly-latest.min']},});if(!window.Plotly) {{require(['plotly'],function(plotly) {window.Plotly=plotly;});}}</script>"
      ],
      "text/vnd.plotly.v1+html": [
       "<script>requirejs.config({paths: { 'plotly': ['https://cdn.plot.ly/plotly-latest.min']},});if(!window.Plotly) {{require(['plotly'],function(plotly) {window.Plotly=plotly;});}}</script>"
      ]
     },
     "metadata": {},
     "output_type": "display_data"
    }
   ],
   "source": [
    "import numpy as np\n",
    "import pandas as pd\n",
    "from lightgbm import LGBMClassifier\n",
    "from scipy.stats import skew\n",
    "from scipy.stats.stats import pearsonr\n",
    "import matplotlib\n",
    "import matplotlib.pyplot as plt\n",
    "import seaborn as sns\n",
    "import plotly.offline as plotly\n",
    "import plotly.graph_objs as go\n",
    "plotly.offline.init_notebook_mode(connected=True)\n",
    "import random\n",
    "import timeit\n",
    "import time\n",
    "\n",
    "matplotlib.rc('font', size=20)\n",
    "matplotlib.rc('axes', titlesize=20)\n",
    "matplotlib.rc('axes', labelsize=20)\n",
    "matplotlib.rc('xtick', labelsize=20)\n",
    "matplotlib.rc('ytick', labelsize=20)\n",
    "matplotlib.rc('legend', fontsize=20)\n",
    "matplotlib.rc('figure', titlesize=20)\n",
    "\n",
    "import tensorflow as tf"
   ]
  },
  {
   "cell_type": "markdown",
   "metadata": {},
   "source": [
    "Function to plot data (useful for debug):"
   ]
  },
  {
   "cell_type": "code",
   "execution_count": 2,
   "metadata": {},
   "outputs": [],
   "source": [
    "def plot_data(X, y):\n",
    "    y = y.flatten()\n",
    "    \n",
    "    x_point_class_0 = X[y == 0].T[0].T\n",
    "    y_point_class_0 = X[y == 0].T[1].T\n",
    "    \n",
    "    x_point_class_1 = X[y == 1].T[0].T\n",
    "    y_point_class_1 = X[y == 1].T[1].T\n",
    "    \n",
    "    plt.plot(x_point_class_0, y_point_class_0, 'ro', label='Class 0')\n",
    "    plt.plot(x_point_class_1, y_point_class_1, 'go', label='Class 1')\n",
    "    plt.legend()\n",
    "    plt.show()"
   ]
  },
  {
   "cell_type": "code",
   "execution_count": 3,
   "metadata": {},
   "outputs": [],
   "source": [
    "def plot_data_with_test_point(X, y, test_point):\n",
    "    \n",
    "    y = y.flatten()\n",
    "    \n",
    "    x_point_class_0 = X[y == 0].T[0].T\n",
    "    y_point_class_0 = X[y == 0].T[1].T\n",
    "    \n",
    "    x_point_class_1 = X[y == 1].T[0].T\n",
    "    y_point_class_1 = X[y == 1].T[1].T\n",
    "    \n",
    "    x_point_test = test_point.T[0].T\n",
    "    y_point_test = test_point.T[1].T\n",
    "\n",
    "    plt.plot(x_point_class_0, y_point_class_0, 'ro', label='Class 0')\n",
    "    plt.plot(x_point_class_1, y_point_class_1, 'go', label='Class 1')\n",
    "    plt.plot(x_point_test, y_point_test, 'bo', label='Test Point')\n",
    "    plt.legend()\n",
    "    plt.show()"
   ]
  },
  {
   "cell_type": "code",
   "execution_count": 4,
   "metadata": {},
   "outputs": [
    {
     "data": {
      "image/png": "[encoded data removed]",
      "text/plain": [
       "<Figure size 432x288 with 1 Axes>"
      ]
     },
     "metadata": {
      "needs_background": "light"
     },
     "output_type": "display_data"
    },
    {
     "data": {
      "image/png": "[encoded data removed]",
      "text/plain": [
       "<Figure size 432x288 with 1 Axes>"
      ]
     },
     "metadata": {
      "needs_background": "light"
     },
     "output_type": "display_data"
    }
   ],
   "source": [
    "plot_data(np.array([[1,2],[3,4]]), np.array([0, 1]))\n",
    "\n",
    "plot_data_with_test_point(np.array([[1,2],[3,4]]), np.array([0, 1]), np.array([[2, 3]]))"
   ]
  },
  {
   "cell_type": "markdown",
   "metadata": {},
   "source": [
    "Random data generator:"
   ]
  },
  {
   "cell_type": "code",
   "execution_count": 5,
   "metadata": {},
   "outputs": [],
   "source": [
    "def generate_pseudo_random_data(number_of_training_points=350, n_features=2,\n",
    "                                class_0_mean=150, class_0_std=32,\n",
    "                                class_1_mean=-15, class_1_std=27):\n",
    "    \n",
    "    number_of_training_points_per_class = int(number_of_training_points/2)\n",
    "    \n",
    "    X = []\n",
    "    y = []\n",
    "\n",
    "    # TODO: make this more efficient.\n",
    "    for i in range(number_of_training_points_per_class):\n",
    "        instance_class_zero = []\n",
    "        \n",
    "        for j in range(n_features):\n",
    "            val = np.random.normal(class_0_mean, class_0_std)\n",
    "            instance_class_zero.append(val)\n",
    "            \n",
    "        instance_class_one = []\n",
    "        for j in range(n_features):\n",
    "            val = np.random.normal(class_1_mean, class_1_std)\n",
    "            instance_class_one.append(val)\n",
    "        \n",
    "        X.append(instance_class_zero)\n",
    "        y.append([0]) # Class 0 label.\n",
    "        \n",
    "        X.append(instance_class_one)\n",
    "        y.append([1]) # Class 1 label.\n",
    "    \n",
    "    return np.array(X), np.array(y)\n"
   ]
  },
  {
   "cell_type": "code",
   "execution_count": 6,
   "metadata": {},
   "outputs": [
    {
     "data": {
      "image/png": "[encoded data removed]",
      "text/plain": [
       "<Figure size 432x288 with 1 Axes>"
      ]
     },
     "metadata": {
      "needs_background": "light"
     },
     "output_type": "display_data"
    },
    {
     "data": {
      "image/png": "[encoded data removed]",
      "text/plain": [
       "<Figure size 432x288 with 1 Axes>"
      ]
     },
     "metadata": {
      "needs_background": "light"
     },
     "output_type": "display_data"
    }
   ],
   "source": [
    "X, y = generate_pseudo_random_data(number_of_training_points=500, n_features=3)\n",
    "\n",
    "plot_data(X, y)\n",
    "\n",
    "X, y = generate_pseudo_random_data(class_0_mean=15, class_0_std=32)\n",
    "\n",
    "plot_data(X, y)"
   ]
  },
  {
   "cell_type": "markdown",
   "metadata": {},
   "source": [
    "## Building the Model\n",
    "\n",
    "Creating the model graph for a simple k-nn. The number of k is a placeholder and is expected to vary according to some instance attribute.\n",
    "\n",
    "For simplicity, it expects only a single GPU."
   ]
  },
  {
   "cell_type": "markdown",
   "metadata": {},
   "source": [
    "Testing support for GPU:"
   ]
  },
  {
   "cell_type": "code",
   "execution_count": 7,
   "metadata": {
    "scrolled": true
   },
   "outputs": [
    {
     "name": "stdout",
     "output_type": "stream",
     "text": [
      "Found GPU at: /device:GPU:0\n"
     ]
    }
   ],
   "source": [
    "device_name = tf.test.gpu_device_name()\n",
    "if device_name != '/device:GPU:0':\n",
    "    raise SystemError('GPU device not found')\n",
    "print('Found GPU at: {}'.format(device_name))"
   ]
  },
  {
   "cell_type": "markdown",
   "metadata": {},
   "source": [
    "Example metrics, eventually, more complex metrics could be implemented, such as a weighted distance:"
   ]
  },
  {
   "cell_type": "code",
   "execution_count": 8,
   "metadata": {},
   "outputs": [],
   "source": [
    "def fast_distance(a, b):\n",
    "    return tf.reduce_sum(tf.abs(tf.subtract(a, b)), axis=1)\n",
    "\n",
    "def euclidean_distance(a, b):\n",
    "    return tf.sqrt(tf.reduce_sum(tf.square(tf.subtract(a, b)), axis=1))"
   ]
  },
  {
   "cell_type": "markdown",
   "metadata": {},
   "source": [
    "The actual graph model:"
   ]
  },
  {
   "cell_type": "code",
   "execution_count": 41,
   "metadata": {},
   "outputs": [],
   "source": [
    "def build_knn_graph(number_of_training_points, number_of_features, \n",
    "                    distance_metric=euclidean_distance,\n",
    "                    gpu_enable=False, include_prints=False):\n",
    "    \n",
    "    device = '/cpu:0'\n",
    "    if gpu_enable:\n",
    "        device = '/gpu:0'\n",
    "        \n",
    "    with tf.device(device):\n",
    "        \n",
    "        X_train = tf.placeholder(tf.float32, shape=[number_of_training_points, number_of_features],\n",
    "                                 name=\"X_train_placeholder\")\n",
    "\n",
    "        y_true = tf.placeholder(tf.float32, shape=[number_of_training_points, 1],\n",
    "                                name=\"y_true_placeholder\")\n",
    "\n",
    "        # Expects a single instance.\n",
    "        X_test = tf.placeholder(tf.float32, shape=[number_of_features], name=\"X_test_placeholder\")\n",
    "    \n",
    "        # k is a scalar placeholder\n",
    "        k = tf.placeholder(tf.int32, shape=(), name=\"k\")\n",
    "        \n",
    "        # Calculates the distance from the test instance against the training data.\n",
    "        distances = distance_metric(X_train, X_test)\n",
    "\n",
    "        # Negating the distances.\n",
    "        # (We need this trick because TensorFlow has top_k API and no closest_k or reverse=True api.)\n",
    "        neg_distances = tf.negative(distances)\n",
    "\n",
    "        # It returns the 'k' values and indexes from the least distant nodes.\n",
    "        values, indexes = tf.nn.top_k(neg_distances, k)\n",
    "\n",
    "        if not gpu_enable and include_prints:\n",
    "            indexes = tf.Print(indexes, [values, indexes], message=\"Top k Results:\")\n",
    "\n",
    "        # We gather the classes using the indexes in the y_true tensor.\n",
    "        # (It works as an efficient \"multiple get\".)\n",
    "        y_neighbours = tf.gather(y_true, indexes)\n",
    "        \n",
    "        # Since the class is discrete we cast it into an int32.\n",
    "        y_neighbours = tf.cast(y_neighbours, tf.int32)\n",
    "\n",
    "        # We aggregate sums of the values and calculate how many values from each class is there on the neighbourhood.\n",
    "        # (i.e. creates a tensor with the count on each index for each class)\n",
    "        y_counts = tf.bincount(y_neighbours)\n",
    "\n",
    "        if not gpu_enable and include_prints:\n",
    "            y_counts = tf.Print(y_counts, [y_counts, y_neighbours], message=\"Counts:\")\n",
    "        \n",
    "        # Gets the index (i.e. corresponding class) with the max count.\n",
    "        # (Unfortunately this operation doesn't seem to work on GPU as of TensorFlow 1.11.0\n",
    "        #  An alternative to this is to use \"allow_soft_placement=True\")\n",
    "        with tf.device('/cpu:0'):\n",
    "            class_pred = tf.argmax(y_counts)\n",
    "\n",
    "    return class_pred, y_counts, X_train, y_true, X_test, k\n"
   ]
  },
  {
   "cell_type": "markdown",
   "metadata": {},
   "source": [
    "A simple test for the model:"
   ]
  },
  {
   "cell_type": "code",
   "execution_count": 42,
   "metadata": {},
   "outputs": [
    {
     "name": "stdout",
     "output_type": "stream",
     "text": [
      "Predicted class for test point 1: 0\n",
      "Predicted class for test point 2: 1\n"
     ]
    },
    {
     "data": {
      "image/png": "[encoded data removed]",
      "text/plain": [
       "<Figure size 432x288 with 1 Axes>"
      ]
     },
     "metadata": {
      "needs_background": "light"
     },
     "output_type": "display_data"
    }
   ],
   "source": [
    "# Generate some data.\n",
    "X, y = generate_pseudo_random_data(number_of_training_points=200, n_features=2)\n",
    "\n",
    "# Build the graph.\n",
    "class_pred, counts, X_train, y_true, X_test, k = build_knn_graph(X.shape[0], X.shape[1], gpu_enable=True)\n",
    "\n",
    "# Example test point\n",
    "test_point_1 = [100.0, 134.0]\n",
    "test_point_2 = [-50.0, 54.0]\n",
    "\n",
    "# Run a session.\n",
    "# (log_device_placement=True => verbose output of where each operation is mapped)\n",
    "# (gpu_options.allow_growth = True => attempts to allocate only as much GPU memory based on runtime allocations)\n",
    "config = tf.ConfigProto(log_device_placement=True)\n",
    "config.gpu_options.allow_growth = True\n",
    "\n",
    "session = tf.Session(config=config)\n",
    "session.run(tf.global_variables_initializer())\n",
    "\n",
    "test_point_1_pred = session.run(class_pred, feed_dict={X_train: X, y_true: y, X_test: test_point_1, k: 15})\n",
    "test_point_2_pred = session.run(class_pred, feed_dict={X_train: X, y_true: y, X_test: test_point_2, k: 15})\n",
    "\n",
    "session.close()\n",
    "\n",
    "# Show results!\n",
    "print(\"Predicted class for test point 1: %s\" % test_point_1_pred)\n",
    "print(\"Predicted class for test point 2: %s\" % test_point_2_pred)\n",
    "plot_data_with_test_point(X, y, np.array([test_point_1, test_point_2]))"
   ]
  },
  {
   "cell_type": "markdown",
   "metadata": {},
   "source": [
    "## A simple benchmark\n",
    "\n",
    "A simple performance benchmark to check the results of CPU vs GPU and how it compares against a popular implementation."
   ]
  },
  {
   "cell_type": "markdown",
   "metadata": {},
   "source": [
    "### Data Generation"
   ]
  },
  {
   "cell_type": "code",
   "execution_count": 51,
   "metadata": {},
   "outputs": [
    {
     "data": {
      "image/png": "[encoded data removed]",
      "text/plain": [
       "<Figure size 432x288 with 1 Axes>"
      ]
     },
     "metadata": {
      "needs_background": "light"
     },
     "output_type": "display_data"
    },
    {
     "name": "stdout",
     "output_type": "stream",
     "text": [
      "k neighbours for each instance: [1337, 9612, 9402, 2663, 3990, 3797, 842, 9797, 6527, 8935]\n"
     ]
    }
   ],
   "source": [
    "# Data params\n",
    "number_of_training_points = 200000\n",
    "n_features = 1000\n",
    "n_test_points = 10\n",
    "\n",
    "# Example test point\n",
    "test_points = []\n",
    "for i in range(n_test_points):\n",
    "    test_points.append(random.choices(list(range(-100, 200)), k=n_features))\n",
    "\n",
    "# Dynamic k\n",
    "k_values = random.choices(list(range(10000)), k=n_test_points)\n",
    "\n",
    "X, y = generate_pseudo_random_data(number_of_training_points=number_of_training_points, n_features=n_features)\n",
    "\n",
    "plot_data_with_test_point(X[:500], y[:500], np.array(test_points))\n",
    "\n",
    "print(\"k neighbours for each instance: %s\" % k_values)"
   ]
  },
  {
   "cell_type": "markdown",
   "metadata": {},
   "source": [
    "### GPU vs CPU on TensorFlow implementation"
   ]
  },
  {
   "cell_type": "code",
   "execution_count": null,
   "metadata": {},
   "outputs": [],
   "source": [
    "config = tf.ConfigProto()\n",
    "\n",
    "def test_tf(gpu_enable=True, print_results=True):\n",
    "    \n",
    "    start = time.time()\n",
    "    \n",
    "    # Run a session.\n",
    "    session = tf.Session(config=config)\n",
    "    session.run(tf.global_variables_initializer())\n",
    "        \n",
    "    # Build the graph.\n",
    "    class_pred, counts, X_train, y_true, X_test, k = build_knn_graph(X.shape[0], X.shape[1], gpu_enable=gpu_enable)\n",
    "        \n",
    "    for data_point in zip(test_points, k_values):\n",
    "        \n",
    "        start_run = time.time()\n",
    "        test_point_pred = session.run(class_pred, feed_dict={X_train: X, y_true: y, X_test: data_point[0], k: data_point[1]})\n",
    "        end_run = time.time()\n",
    "        \n",
    "        # Show results!\n",
    "        if print_results:\n",
    "            print(\"Predicted class for test point %s(...) using k=%s: %s\" %\n",
    "                    (data_point[0][:10], data_point[1], test_point_pred))\n",
    "            \n",
    "            print(\"Run Time elapsed: %f\" % (end_run-start_run))\n",
    "                \n",
    "\n",
    "    session.close()\n",
    "    \n",
    "    end = time.time()\n",
    "    print(\"Time elapsed: %f\" % (end-start))\n",
    "            \n",
    "\n",
    "            \n",
    "test_tf(gpu_enable=True, print_results=True)"
   ]
  },
  {
   "cell_type": "markdown",
   "metadata": {},
   "source": [
    "Actual benchmark:"
   ]
  },
  {
   "cell_type": "code",
   "execution_count": 54,
   "metadata": {},
   "outputs": [
    {
     "name": "stdout",
     "output_type": "stream",
     "text": [
      "Time (s) to knn!.\n",
      "TF CPU (s):\n",
      "Time elapsed: 11.361576\n",
      "Time elapsed: 10.950760\n",
      "Time elapsed: 11.234590\n",
      "Time elapsed: 11.650291\n",
      "Time elapsed: 11.681021\n",
      "56.87980821571364\n",
      "TF GPU (s):\n",
      "Time elapsed: 7.988203\n",
      "Time elapsed: 7.950315\n",
      "Time elapsed: 7.908797\n",
      "Time elapsed: 7.887465\n",
      "Time elapsed: 7.886387\n",
      "39.62223150841419\n",
      "TF GPU speedup over TF CPU: 1.4355528714639565x\n"
     ]
    }
   ],
   "source": [
    "def test_tf_gpu():\n",
    "     test_tf(gpu_enable=True, print_results=False)\n",
    "        \n",
    "def test_tf_cpu():\n",
    "     test_tf(gpu_enable=False, print_results=False) \n",
    "    \n",
    "\n",
    "print('Time (s) to knn!.')\n",
    "print('TF CPU (s):')\n",
    "tf_time_cpu = timeit.timeit('test_tf_cpu()', number=5, setup=\"from __main__ import test_tf_cpu\")\n",
    "print(tf_time_cpu)\n",
    "print('TF GPU (s):')\n",
    "tf_time_gpu = timeit.timeit('test_tf_gpu()', number=5, setup=\"from __main__ import test_tf_gpu\")\n",
    "print(tf_time_gpu)\n",
    "print('TF GPU speedup over TF CPU: {}x'.format(tf_time_cpu/tf_time_gpu))"
   ]
  },
  {
   "cell_type": "markdown",
   "metadata": {},
   "source": [
    "**Expected Output:**\n",
    "   \n",
    "   <html>\n",
    "<table style=\"width:30%\">\n",
    "   <tr>\n",
    "    <th>TF GPU speedup over TF CPU:</th>\n",
    "  </tr>\n",
    "  <tr>\n",
    "    <th>Somewhere between ~1.2-1.4</th>\n",
    "  </tr>\n",
    "</table> \n",
    "</html>\n",
    "\n",
    "On large datasets, the GPU gains are more noticeable, however, even on this machine specs, with a low powered GPU, the GPU performance gain is around 40%.\n",
    "\n",
    "Now let's compare against a popular and well-optimized implementation."
   ]
  },
  {
   "cell_type": "markdown",
   "metadata": {},
   "source": [
    "### TensorFlow GPU vs Scikit-Learn Implementation"
   ]
  },
  {
   "cell_type": "markdown",
   "metadata": {},
   "source": [
    "We are going to use a robust algorithm from a popular library, the [KNeighborsClassifier](http://scikit-learn.org/stable/modules/generated/sklearn.neighbors.KNeighborsClassifier.html) from Scikit-Learn.\n",
    "\n",
    "A dynamic $k$ value in these algorithms will kill the model performance because their implementation relies on fitting the input according to some well optimized structure beforehand. Since we are dealing with a $k$ (that can range somewhere between 0-10000), we will need to fit the dataset for *each* instance we're trying to predict."
   ]
  },
  {
   "cell_type": "code",
   "execution_count": null,
   "metadata": {},
   "outputs": [],
   "source": [
    "from sklearn.neighbors import KNeighborsClassifier\n",
    "\n",
    "def test_scikit(print_results=True):\n",
    "    \n",
    "    start = time.time()\n",
    "    \n",
    "    for data_point in zip(test_points, k_values):\n",
    "        \n",
    "        start_run = time.time()\n",
    "        # We need to call fit() on each test data point because the scenario is of a dynamic k\n",
    "        neigh = KNeighborsClassifier(n_neighbors=data_point[1])\n",
    "        neigh.fit(X, y.ravel())\n",
    "        test_point_pred = neigh.predict([data_point[0]])\n",
    "        end_run = time.time()\n",
    "        \n",
    "        # Show results!\n",
    "        if print_results:\n",
    "            print(\"Predicted class for test point %s(...) using k=%s: %s\" %\n",
    "                    (data_point[0][:10], data_point[1], test_point_pred))\n",
    "            \n",
    "            print(\"Run Time elapsed: %f\" % (end_run-start_run))\n",
    "                \n",
    "\n",
    "    end = time.time()\n",
    "    print(\"Time elapsed: %f\" % (end-start))\n",
    "    \n",
    "test_scikit(print_results=True)"
   ]
  },
  {
   "cell_type": "markdown",
   "metadata": {},
   "source": [
    "Actual benchmark:"
   ]
  },
  {
   "cell_type": "code",
   "execution_count": 59,
   "metadata": {},
   "outputs": [
    {
     "name": "stdout",
     "output_type": "stream",
     "text": [
      "Time (s) to knn!.\n",
      "Scikit CPU (s):\n",
      "Time elapsed: 754.340670\n",
      "Time elapsed: 661.100592\n",
      "Time elapsed: 374.606529\n",
      "Time elapsed: 368.232012\n",
      "Time elapsed: 393.661025\n",
      "2552.01862345655\n",
      "TF GPU (s):\n",
      "Time elapsed: 8.357933\n",
      "Time elapsed: 8.239305\n",
      "Time elapsed: 8.275646\n",
      "Time elapsed: 8.252841\n",
      "Time elapsed: 8.236926\n",
      "41.36518448057541\n",
      "TF GPU speedup over TF CPU: 61.69484448098974x\n"
     ]
    }
   ],
   "source": [
    "def test_tf_gpu():\n",
    "     test_tf(gpu_enable=True, print_results=False)\n",
    "        \n",
    "def test_scikit_cpu():\n",
    "     test_scikit(print_results=False)\n",
    "\n",
    "print('Time (s) to knn!.')\n",
    "print('Scikit CPU (s):')\n",
    "scikit_time_cpu = timeit.timeit('test_scikit_cpu()', number=5, setup=\"from __main__ import test_scikit_cpu\")\n",
    "print(scikit_time_cpu)\n",
    "print('TF GPU (s):')\n",
    "tf_time_gpu = timeit.timeit('test_tf_gpu()', number=5, setup=\"from __main__ import test_tf_gpu\")\n",
    "print(tf_time_gpu)\n",
    "print('TF GPU speedup over SciKit CPU: {}x'.format(scikit_time_cpu/tf_time_gpu))"
   ]
  },
  {
   "cell_type": "markdown",
   "metadata": {},
   "source": [
    "**Expected Output:**\n",
    "   \n",
    "   <html>\n",
    "<table style=\"width:30%\">\n",
    "   <tr>\n",
    "    <th>TF GPU speedup over Scikit CPU:</th>\n",
    "  </tr>\n",
    "  <tr>\n",
    "    <th>Somewhere between ~40-60</th>\n",
    "  </tr>\n",
    "</table> \n",
    "</html>\n",
    "\n",
    "\n",
    "As seen above, the results are quite favorable towards the k-NN implementation using TensorFlow with GPU support.\n",
    "\n",
    "This makes it a great solution if we are dealing with any problem where a dynamic $k$ value is needed.\n",
    "\n",
    "But what about when the $k$ is static?"
   ]
  },
  {
   "cell_type": "markdown",
   "metadata": {},
   "source": [
    "#### Benchmarking with a static $k$"
   ]
  },
  {
   "cell_type": "code",
   "execution_count": null,
   "metadata": {},
   "outputs": [],
   "source": [
    "def test_scikit_static_k(print_results=True):\n",
    "    \n",
    "    start = time.time()\n",
    "    \n",
    "    # For this test we will be using a fixed k\n",
    "    neigh = KNeighborsClassifier(n_neighbors=1000)\n",
    "    neigh.fit(X, y.ravel())\n",
    "    \n",
    "    for i in range(100):\n",
    "        for data_point in zip(test_points, k_values):\n",
    "\n",
    "            start_run = time.time()\n",
    "            test_point_pred = neigh.predict([data_point[0]])\n",
    "            end_run = time.time()\n",
    "\n",
    "            # Show results!\n",
    "            if print_results:\n",
    "                print(\"Predicted class for test point %s(...) using k=%s: %s\" %\n",
    "                        (data_point[0][:10], 1000, test_point_pred))\n",
    "\n",
    "                print(\"Run Time elapsed: %f\" % (end_run-start_run))\n",
    "                \n",
    "\n",
    "    session.close()\n",
    "    \n",
    "    end = time.time()\n",
    "    print(\"Time elapsed: %f\" % (end-start))\n",
    "    \n",
    "def test_tf_static(gpu_enable=True, print_results=True):\n",
    "    \n",
    "    start = time.time()\n",
    "    \n",
    "    # Run a session.\n",
    "    session = tf.Session(config=config)\n",
    "    session.run(tf.global_variables_initializer())\n",
    "        \n",
    "    # Build the graph.\n",
    "    class_pred, counts, X_train, y_true, X_test, k = build_knn_graph(X.shape[0], X.shape[1], gpu_enable=gpu_enable)\n",
    "    \n",
    "    for i in range(100):\n",
    "        for data_point in zip(test_points, k_values):\n",
    "\n",
    "            start_run = time.time()\n",
    "            # For this test we will be using a fixed k=1000\n",
    "            test_point_pred = session.run(class_pred, feed_dict={X_train: X, y_true: y, X_test: data_point[0], k: 1000})\n",
    "            end_run = time.time()\n",
    "\n",
    "            # Show results!\n",
    "            if print_results:\n",
    "                print(\"Predicted class for test point %s(...) using k=%s: %s\" %\n",
    "                        (data_point[0][:10], 1000, test_point_pred))\n",
    "\n",
    "                print(\"Run Time elapsed: %f\" % (end_run-start_run))\n",
    "                \n",
    "\n",
    "    session.close()\n",
    "    \n",
    "    end = time.time()\n",
    "    print(\"Time elapsed: %f\" % (end-start))   \n",
    "\n",
    "print(\"Scikit with static k\") \n",
    "test_scikit_static_k(print_results=False)\n",
    "print(\"TF with static k\") \n",
    "test_tf_static(gpu_enable=True, print_results=False)"
   ]
  },
  {
   "cell_type": "markdown",
   "metadata": {},
   "source": [
    "Actual benchmark:"
   ]
  },
  {
   "cell_type": "code",
   "execution_count": 65,
   "metadata": {},
   "outputs": [
    {
     "name": "stdout",
     "output_type": "stream",
     "text": [
      "Time (s) to knn!.\n",
      "Scikit CPU (s):\n",
      "Time elapsed: 497.392565\n",
      "Time elapsed: 522.821572\n",
      "Time elapsed: 777.285934\n",
      "Time elapsed: 700.358408\n",
      "Time elapsed: 517.230621\n",
      "3015.183898477495\n",
      "TF GPU (s):\n",
      "Time elapsed: 771.146711\n",
      "Time elapsed: 853.711834\n",
      "Time elapsed: 777.135780\n",
      "Time elapsed: 693.493504\n",
      "Time elapsed: 668.953792\n",
      "3764.444491241964\n",
      "TF GPU speedup over TF CPU: 0.8009638355652116x\n"
     ]
    }
   ],
   "source": [
    "def test_tf_static_gpu():\n",
    "     test_tf_static(gpu_enable=True, print_results=False)\n",
    "        \n",
    "def test_scikit_static_k_cpu():\n",
    "     test_scikit_static_k(print_results=False)\n",
    "\n",
    "print('Time (s) to knn, using a static k!.')\n",
    "print('Scikit CPU (s):')\n",
    "scikit_time_cpu = timeit.timeit('test_scikit_static_k_cpu()', number=5, setup=\"from __main__ import test_scikit_static_k_cpu\")\n",
    "print(scikit_time_cpu)\n",
    "print('TF GPU (s):')\n",
    "tf_time_gpu = timeit.timeit('test_tf_static_gpu()', number=5, setup=\"from __main__ import test_tf_static_gpu\")\n",
    "print(tf_time_gpu)\n",
    "print('TF GPU speedup over Scikit CPU: {}x'.format(scikit_time_cpu/tf_time_gpu))"
   ]
  },
  {
   "cell_type": "markdown",
   "metadata": {},
   "source": [
    "**Expected Output:**\n",
    "   \n",
    "   <html>\n",
    "<table style=\"width:30%\">\n",
    "   <tr>\n",
    "    <th>TF GPU speedup over Scikit CPU:</th>\n",
    "  </tr>\n",
    "  <tr>\n",
    "    <th>Somewhere between ~0.7-0.8</th>\n",
    "  </tr>\n",
    "</table> \n",
    "</html>\n",
    "\n",
    "In this scenario, this implementation of k-NN using TensorFlow with GPU support is actually around 20-30% slower than the Scikit implementation!\n",
    "\n",
    "However, this is also the worst scenario for this implementation and with a better GPU this difference might decrease. \n",
    "\n",
    "In any case, it's impressive that we can obtain such results for such a naíve/simple implementation and there's a lot of room for improvement!"
   ]
  }
 ],
 "metadata": {
  "kernelspec": {
   "display_name": "TensorFlow-GPU",
   "language": "python",
   "name": "tf-gpu"
  },
  "language_info": {
   "codemirror_mode": {
    "name": "ipython",
    "version": 3
   },
   "file_extension": ".py",
   "mimetype": "text/x-python",
   "name": "python",
   "nbconvert_exporter": "python",
   "pygments_lexer": "ipython3",
   "version": "3.6.6"
  }
 },
 "nbformat": 4,
 "nbformat_minor": 2
}
